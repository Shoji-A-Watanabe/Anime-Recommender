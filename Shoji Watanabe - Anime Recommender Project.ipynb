{
  "nbformat": 4,
  "nbformat_minor": 0,
  "metadata": {
    "colab": {
      "provenance": [],
      "toc_visible": true
    },
    "kernelspec": {
      "name": "python3",
      "display_name": "Python 3"
    },
    "language_info": {
      "name": "python"
    }
  },
  "cells": [
    {
      "cell_type": "code",
      "source": [],
      "metadata": {
        "id": "VDryS0OG6WWz"
      },
      "execution_count": null,
      "outputs": []
    },
    {
      "cell_type": "code",
      "execution_count": 5,
      "metadata": {
        "id": "vonqFJpNHj5k",
        "colab": {
          "base_uri": "https://localhost:8080/"
        },
        "outputId": "37cd1500-3d00-4add-b05f-51fa32a4cc93"
      },
      "outputs": [
        {
          "output_type": "execute_result",
          "data": {
            "text/plain": [
              "3377                                              Unknown\n",
              "5268                      Adventure on the Gaboten Island\n",
              "2758                                             Compiler\n",
              "3134                      Hika Ryoujoku:The Lust of Shame\n",
              "6087    Kimi ni Todoke - From Me To You Season 2 – A C...\n",
              "4463                                              Unknown\n",
              "6197              Mashiroiro Symphony:The Color of Lovers\n",
              "2504                                Crusher Joe:The Movie\n",
              "592                                     Magic User's Club\n",
              "2683                                 Legendary Idol Eriko\n",
              "Name: English name, dtype: object"
            ]
          },
          "metadata": {},
          "execution_count": 5
        }
      ],
      "source": [
        "import pandas as pd\n",
        "animes = pd.read_csv(\"anime.csv\")\n",
        "ratings = pd.read_csv(\"rating_complete.csv\")\n",
        "data = pd.merge(animes, ratings, left_on='MAL_ID', right_on='anime_id')\n",
        "matrix = data.pivot_table(index='user_id', columns='English name', values='rating')\n",
        "matrix = matrix.fillna(5, axis=0)\n",
        "from sklearn.metrics.pairwise import cosine_similarity\n",
        "similarity = cosine_similarity(matrix.T)\n",
        "def get_recommendations(name, similarity=similarity, animes=animes): \n",
        "  matching_anime = animes[animes['English name'] == name]\n",
        "  if len(matching_anime) == 0:\n",
        "    return \"Anime name not in dataset\"\n",
        "  idx = matching_anime.index[0]\n",
        "  anime_scores = list(enumerate(similarity[idx]))\n",
        "  sorted_scores = sorted(anime_scores, key=lambda x: x[1], reverse=True)\n",
        "  top_scores = sorted_scores[1:11]\n",
        "  anime_indices = [i[0] for i in top_scores]\n",
        "  return animes['English name'].iloc[anime_indices]\n",
        "get_recommendations('Naruto')\n",
        "\n"
      ]
    }
  ]
}